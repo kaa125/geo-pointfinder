{
 "cells": [
  {
   "cell_type": "code",
   "execution_count": null,
   "id": "22fcc8e6",
   "metadata": {},
   "outputs": [],
   "source": [
    "import pandas as pd                      \n",
    "from pytrends.request import TrendReq\n",
    "pytrend = TrendReq()\n",
    "pytrend = TrendReq(hl='US', tz=360)\n",
    "\n",
    "# Metro Bank\n",
    "pytrend.build_payload(kw_list=['/m/06m2z0'], timeframe='2015-01-01 2021-09-22', geo='GB')# Interest by Region\n",
    "df_metro = pytrend.interest_over_time()\n",
    "df_metro = df_metro.drop(['isPartial'], axis=1) # Interest over time \n",
    "df_region_metro = pytrend.interest_by_region() # Interest over region\n",
    "df_related_queries_metro = pytrend.related_queries() # Related Top and Rising Queries by Company\n",
    "df_region_metro['state'] = df_region_metro.index\n",
    "df_metro = df_metro.rename(columns={'/m/06m2z0': 'Metro Bank'})\n",
    "df_region_metro = df_region_metro.rename(columns={'/m/06m2z0': 'Metro Bank'})\n",
    "df_related_queries_metro['Metro Bank'] = df_related_queries_metro.pop('/m/06m2z0')\n",
    "\n",
    "\n",
    "df_related_queries_metro_rising = df_related_queries_metro['Metro Bank']['rising']\n",
    "df_related_queries_metro_rising['query'] = df_related_queries_metro_rising['query'].apply(translator.translate, src='ar', dest='en').apply(getattr, args=('text',))\n",
    "df_related_queries_metro_rising.to_csv (\"C:/Users/khawaja.ahad/Desktop/metro_rising.csv\", index = None, header=True) \n",
    "\n",
    "df_related_queries_metro_top = df_related_queries_metro['Metro Bank']['top']\n",
    "df_related_queries_metro_top['query'] = df_related_queries_metro_top['query'].apply(translator.translate, src='ar', dest='en').apply(getattr, args=('text',))\n",
    "df_related_queries_metro_top.to_csv (\"C:/Users/khawaja.ahad/Desktop/metro_top.csv\", index = None, header=True)"
   ]
  }
 ],
 "metadata": {
  "kernelspec": {
   "display_name": "Python 3 (ipykernel)",
   "language": "python",
   "name": "python3"
  }
 },
 "nbformat": 4,
 "nbformat_minor": 5
}
